{
  "nbformat": 4,
  "nbformat_minor": 0,
  "metadata": {
    "colab": {
      "provenance": [],
      "authorship_tag": "ABX9TyNNYdBp0ptL6UHyUJ+BEDRz",
      "include_colab_link": true
    },
    "kernelspec": {
      "name": "python3",
      "display_name": "Python 3"
    },
    "language_info": {
      "name": "python"
    }
  },
  "cells": [
    {
      "cell_type": "markdown",
      "metadata": {
        "id": "view-in-github",
        "colab_type": "text"
      },
      "source": [
        "<a href=\"https://colab.research.google.com/github/kamilath/Invoice_processing/blob/main/Untitled1.ipynb\" target=\"_parent\"><img src=\"https://colab.research.google.com/assets/colab-badge.svg\" alt=\"Open In Colab\"/></a>"
      ]
    },
    {
      "cell_type": "code",
      "execution_count": 1,
      "metadata": {
        "id": "OWGFOdRHQCUH"
      },
      "outputs": [],
      "source": [
        "!pip install -q google-generativeai==0.3.1"
      ]
    },
    {
      "cell_type": "code",
      "source": [
        "import google.generativeai as genai\n",
        "from pathlib import Path"
      ],
      "metadata": {
        "id": "0EeKLoy1QDMQ"
      },
      "execution_count": 2,
      "outputs": []
    },
    {
      "cell_type": "code",
      "source": [
        "genai.__version__"
      ],
      "metadata": {
        "colab": {
          "base_uri": "https://localhost:8080/",
          "height": 36
        },
        "id": "saNfAv--QGa5",
        "outputId": "77cf4436-f0d6-4d8e-806b-79203f889f6f"
      },
      "execution_count": 3,
      "outputs": [
        {
          "output_type": "execute_result",
          "data": {
            "text/plain": [
              "'0.3.1'"
            ],
            "application/vnd.google.colaboratory.intrinsic+json": {
              "type": "string"
            }
          },
          "metadata": {},
          "execution_count": 3
        }
      ]
    },
    {
      "cell_type": "code",
      "source": [
        "from google.colab import userdata\n",
        "\n",
        "genai.configure(api_key = userdata.get('Gemini_Key'))"
      ],
      "metadata": {
        "id": "bQx1cegFQIIJ"
      },
      "execution_count": 4,
      "outputs": []
    },
    {
      "cell_type": "code",
      "source": [
        "# Set up the model\n",
        "generation_config = {\n",
        "  \"temperature\": 0.4,\n",
        "  \"top_p\": 1,\n",
        "  \"top_k\": 32,\n",
        "  \"max_output_tokens\": 4096,\n",
        "}\n",
        "\n",
        "safety_settings = [\n",
        "  {\n",
        "    \"category\": \"HARM_CATEGORY_HARASSMENT\",\n",
        "    \"threshold\": \"BLOCK_MEDIUM_AND_ABOVE\"\n",
        "  },\n",
        "  {\n",
        "    \"category\": \"HARM_CATEGORY_HATE_SPEECH\",\n",
        "    \"threshold\": \"BLOCK_MEDIUM_AND_ABOVE\"\n",
        "  },\n",
        "  {\n",
        "    \"category\": \"HARM_CATEGORY_SEXUALLY_EXPLICIT\",\n",
        "    \"threshold\": \"BLOCK_MEDIUM_AND_ABOVE\"\n",
        "  },\n",
        "  {\n",
        "    \"category\": \"HARM_CATEGORY_DANGEROUS_CONTENT\",\n",
        "    \"threshold\": \"BLOCK_MEDIUM_AND_ABOVE\"\n",
        "  }\n",
        "]"
      ],
      "metadata": {
        "id": "6riPfnjEQKDB"
      },
      "execution_count": 5,
      "outputs": []
    },
    {
      "cell_type": "code",
      "source": [
        "model = genai.GenerativeModel(model_name = \"gemini-pro-vision\",\n",
        "                              generation_config = generation_config,\n",
        "                              safety_settings = safety_settings)"
      ],
      "metadata": {
        "id": "KskhrLKFQMEt"
      },
      "execution_count": 6,
      "outputs": []
    },
    {
      "cell_type": "code",
      "source": [
        "def input_image_setup(file_loc):\n",
        "    if not (img := Path(file_loc)).exists():\n",
        "        raise FileNotFoundError(f\"Could not find image: {img}\")\n",
        "\n",
        "    image_parts = [\n",
        "        {\n",
        "            \"mime_type\": \"image/jpeg\",\n",
        "            \"data\": Path(file_loc).read_bytes()\n",
        "            }\n",
        "        ]\n",
        "    return image_parts"
      ],
      "metadata": {
        "id": "uzVyZu3kQN9r"
      },
      "execution_count": 7,
      "outputs": []
    },
    {
      "cell_type": "code",
      "source": [
        "def generate_gemini_response(input_prompt, image_loc, question_prompt):\n",
        "\n",
        "    image_prompt = input_image_setup(image_loc)\n",
        "    prompt_parts = [input_prompt, image_prompt[0], question_prompt]\n",
        "    response = model.generate_content(prompt_parts)\n",
        "    return response.text"
      ],
      "metadata": {
        "id": "bNs0ibdEQP6i"
      },
      "execution_count": 8,
      "outputs": []
    },
    {
      "cell_type": "code",
      "source": [
        "import json\n",
        "\n",
        "\n",
        "\n",
        "def generate_gemini_response(input_prompt, image_loc, question_prompts, output_file_path):\n",
        "    image_prompt = input_image_setup(image_loc)\n",
        "\n",
        "    # Create a dictionary to store questions and responses\n",
        "    responses = {}\n",
        "\n",
        "    for question_prompt in question_prompts:\n",
        "        prompt_parts = [input_prompt, image_prompt[0], question_prompt]\n",
        "        response = model.generate_content(prompt_parts)\n",
        "\n",
        "        # Use the original question as the key\n",
        "        responses[question_prompt] = response.text\n",
        "\n",
        "    # Convert the dictionary to a JSON-formatted string\n",
        "    json_output = json.dumps(responses, indent=2)\n",
        "\n",
        "    # Write the JSON data to a file\n",
        "    with open(output_file_path, 'w') as output_file:\n",
        "        output_file.write(json_output)\n",
        "\n",
        "\n",
        "# Example usage with multiple questions:\n",
        "input_prompt = \"\"\"\n",
        "               You are an expert in understanding invoices.\n",
        "               You will receive input images as invoices &\n",
        "               you will have to answer questions based on the input image\n",
        "               In Invoice_amount use symbol\n",
        "\n",
        "\n",
        "               \"\"\"\n",
        "image_loc = \"/content/9 (3)_page-0001.jpg\"\n",
        "question_prompts = [\"vendor_name\", \"Invoice_number\", \"Invoice_date\", \"Invoice_amount\"]\n",
        "output_file_path = \"/content/multiple_questions_responsesss.json\"\n",
        "\n",
        "generate_gemini_response(input_prompt, image_loc, question_prompts, output_file_path)\n",
        "print(f\"Generated responses saved to {output_file_path}\")"
      ],
      "metadata": {
        "colab": {
          "base_uri": "https://localhost:8080/",
          "height": 34
        },
        "id": "YKiShja_QRuu",
        "outputId": "414a3cee-311b-497c-bf51-e37ad731eca1"
      },
      "execution_count": 62,
      "outputs": [
        {
          "output_type": "stream",
          "name": "stdout",
          "text": [
            "Generated responses saved to /content/multiple_questions_responsesss.json\n"
          ]
        }
      ]
    },
    {
      "cell_type": "code",
      "source": [
        "\n",
        "import sqlite3\n",
        "import json\n",
        "\n",
        "# Connect to SQLite database\n",
        "conn = sqlite3.connect('responses.db')\n",
        "cursor = conn.cursor()\n",
        "\n",
        "# Load JSON data from file\n",
        "with open('/content/multiple_questions_responsesss.json', 'r') as json_file:\n",
        "    data = json.load(json_file)\n",
        "\n",
        "# Extract question prompts and responses\n",
        "question_prompts = list(data.keys())\n",
        "responses = list(data.values())\n",
        "\n",
        "# Create a table in the SQLite database\n",
        "create_table_query = f\"CREATE TABLE IF NOT EXISTS Responses ({', '.join([f'{question} TEXT' for question in question_prompts])})\"\n",
        "cursor.execute(create_table_query)\n",
        "\n",
        "# Insert responses into the SQLite table\n",
        "insert_query = f\"INSERT INTO Responses ({', '.join(question_prompts)}) VALUES ({', '.join(['?']*len(question_prompts))})\"\n",
        "cursor.execute(insert_query, responses)\n",
        "\n",
        "# Commit changes and close connection\n",
        "conn.commit()\n",
        "conn.close()\n",
        "\n",
        "print(\"Data inserted into the database.\")"
      ],
      "metadata": {
        "id": "va6n5zXOQa26",
        "colab": {
          "base_uri": "https://localhost:8080/"
        },
        "outputId": "172deae4-6d0b-4dbd-9100-93045ac1ff0c"
      },
      "execution_count": 63,
      "outputs": [
        {
          "output_type": "stream",
          "name": "stdout",
          "text": [
            "Data inserted into the database.\n"
          ]
        }
      ]
    },
    {
      "cell_type": "code",
      "source": [
        "import sqlite3\n",
        "\n",
        "# Connect to SQLite database\n",
        "conn = sqlite3.connect('responses.db')\n",
        "cursor = conn.cursor()\n",
        "\n",
        "# Define the CREATE TABLE query\n",
        "create_table_query = '''\n",
        "CREATE TABLE IF NOT EXISTS Responses (\n",
        "    id INTEGER PRIMARY KEY,\n",
        "    Image_Location TEXT,\n",
        "    Input_Prompt TEXT,\n",
        "    Vendor_Name TEXT,\n",
        "    Invoice_Number TEXT,\n",
        "    Invoice_Date TEXT,\n",
        "    Invoice_Amount TEXT\n",
        ")\n",
        "'''\n",
        "\n",
        "# Execute the CREATE TABLE query\n",
        "cursor.execute(create_table_query)\n",
        "\n",
        "# Commit changes and close connection\n",
        "conn.commit()\n",
        "conn.close()\n",
        "\n",
        "print(\"Table 'Responses' created successfully.\")\n"
      ],
      "metadata": {
        "id": "XlAMp5MBQkBG",
        "colab": {
          "base_uri": "https://localhost:8080/"
        },
        "outputId": "ad17a92f-dc24-4835-da92-321d3bc8600c"
      },
      "execution_count": 64,
      "outputs": [
        {
          "output_type": "stream",
          "name": "stdout",
          "text": [
            "Table 'Responses' created successfully.\n"
          ]
        }
      ]
    },
    {
      "cell_type": "code",
      "source": [
        "import sqlite3\n",
        "\n",
        "# Connect to SQLite database\n",
        "conn = sqlite3.connect('responses.db')\n",
        "cursor = conn.cursor()\n",
        "\n",
        "# Execute SELECT query\n",
        "cursor.execute(\"SELECT * FROM Responses\")\n",
        "\n",
        "# Fetch all rows\n",
        "rows = cursor.fetchall()\n",
        "\n",
        "# Print the rows\n",
        "for row in rows:\n",
        "    print(row)\n",
        "\n",
        "# Close connection\n",
        "conn.close()\n"
      ],
      "metadata": {
        "id": "A54vZTEhQlod",
        "colab": {
          "base_uri": "https://localhost:8080/"
        },
        "outputId": "64c3dd82-c8a3-4853-c134-1db6e60adb1a"
      },
      "execution_count": 65,
      "outputs": [
        {
          "output_type": "stream",
          "name": "stdout",
          "text": [
            "(' Walker Homes', ' #1', ' 1.16.14', ' $24,500.00')\n",
            "(' LUXURY', ' 123456789', ' Jan 12, 2019', ' $1300.00')\n",
            "(' TAYLOR DICKENS', ' PO00495', ' 04/26/2017', ' $228.47')\n",
            "(' KPK SCIENTIFIC SUPPLIES', ' 1227/2022-2023', ' 30.03.2023', ' 117848.00')\n",
            "(' NEW LITE LUMBER AND CONSTRUCTION SUPPLY, INC.', ' 11473', ' Mar 14 2018', ' 5,895.00')\n",
            "(' Example Business Name or Business Owner', ' 123456', ' 08/19/2020', ' $500.00')\n",
            "(' Company Name', ' 100', ' June 14, 2018', ' 1408.09')\n",
            "(' VAALJAPIE\\nSTASIE RESTAURANT', ' 57', ' 11/03/05', ' R135.25')\n",
            "(' Stanford Plumbing & Heating', ' INV2081', ' 11/11/18', ' $2,844.80')\n",
            "(' OHM VENTURES', ' SC2440', ' 14/01/2024', ' 1920.00')\n"
          ]
        }
      ]
    },
    {
      "cell_type": "code",
      "source": [
        "import sqlite3\n",
        "import pandas as pd\n",
        "\n",
        "# Connect to SQLite database\n",
        "conn = sqlite3.connect('responses.db')\n",
        "\n",
        "# Read data from the database into a pandas DataFrame\n",
        "df = pd.read_sql_query(\"SELECT * FROM Responses\", conn)\n",
        "\n",
        "# Close the database connection\n",
        "conn.close()\n",
        "\n",
        "# Write the DataFrame to an Excel file\n",
        "excel_file = \"responses.xlsx\"\n",
        "df.to_excel(excel_file, index=False)\n",
        "\n",
        "print(f\"Data written to {excel_file}\")"
      ],
      "metadata": {
        "id": "ujGHrM5ZQpVi",
        "colab": {
          "base_uri": "https://localhost:8080/"
        },
        "outputId": "9353e9e7-87eb-4e15-a1a1-f8963b0b2f87"
      },
      "execution_count": 60,
      "outputs": [
        {
          "output_type": "stream",
          "name": "stdout",
          "text": [
            "Data written to responses.xlsx\n"
          ]
        }
      ]
    },
    {
      "cell_type": "code",
      "source": [],
      "metadata": {
        "id": "uJrnz6RwUx19"
      },
      "execution_count": 13,
      "outputs": []
    },
    {
      "cell_type": "code",
      "source": [],
      "metadata": {
        "id": "6XYJKwWFZh8f"
      },
      "execution_count": 13,
      "outputs": []
    },
    {
      "cell_type": "code",
      "source": [
        "import sqlite3\n",
        "\n",
        "# Connect to SQLite database\n",
        "conn = sqlite3.connect('responses.db')\n",
        "cursor = conn.cursor()\n",
        "\n",
        "# Execute DROP TABLE query\n",
        "cursor.execute(\"DROP TABLE IF EXISTS Responses\")\n",
        "\n",
        "# Commit the transaction\n",
        "conn.commit()\n",
        "\n",
        "# Close connection\n",
        "conn.close()\n",
        "\n",
        "print(\"Table 'Responses' deleted successfully.\")\n"
      ],
      "metadata": {
        "id": "kkFvoZUbRiTK",
        "colab": {
          "base_uri": "https://localhost:8080/"
        },
        "outputId": "1b86dba3-9870-4b15-bc87-2fd06a9e172b"
      },
      "execution_count": 14,
      "outputs": [
        {
          "output_type": "stream",
          "name": "stdout",
          "text": [
            "Table 'Responses' deleted successfully.\n"
          ]
        }
      ]
    },
    {
      "cell_type": "code",
      "source": [],
      "metadata": {
        "id": "XbZt1sqqWU5v"
      },
      "execution_count": 14,
      "outputs": []
    },
    {
      "cell_type": "code",
      "source": [],
      "metadata": {
        "id": "djFnZNwNW9_N"
      },
      "execution_count": 14,
      "outputs": []
    }
  ]
}